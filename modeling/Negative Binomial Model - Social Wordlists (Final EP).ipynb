{
 "cells": [
  {
   "cell_type": "code",
   "execution_count": null,
   "metadata": {},
   "outputs": [],
   "source": [
    "# Use case: \n",
    "# when we are curious about how certain conditions (wordlists) would impact engagement mertrics on social posts,\n",
    "# we use negative binomial model to measure the impacts of each condition we designed."
   ]
  },
  {
   "cell_type": "code",
   "execution_count": null,
   "metadata": {},
   "outputs": [],
   "source": [
    "import pandas as pd\n",
    "import statsmodels as sm\n",
    "import os"
   ]
  },
  {
   "cell_type": "code",
   "execution_count": null,
   "metadata": {},
   "outputs": [],
   "source": [
    "# load the content that you want to analyze\n",
    "df = pd.read_pickle('social_content/tw/Skittles_tw.pkl')"
   ]
  },
  {
   "cell_type": "code",
   "execution_count": null,
   "metadata": {},
   "outputs": [],
   "source": [
    "df.columns"
   ]
  },
  {
   "cell_type": "code",
   "execution_count": null,
   "metadata": {},
   "outputs": [],
   "source": [
    "df = df.rename(columns = {'full_text':'text','favorite_count':'engagement' })\n",
    "df.columns"
   ]
  },
  {
   "cell_type": "code",
   "execution_count": null,
   "metadata": {},
   "outputs": [],
   "source": [
    "# feature 1: whether a caption involves recipe\n",
    "df['feature_recipe_post'] = df['text'].str.contains('recipe').fillna(False)"
   ]
  },
  {
   "cell_type": "code",
   "execution_count": null,
   "metadata": {},
   "outputs": [],
   "source": [
    "# feature 2: whether a caption involves a question\n",
    "df['feature_question'] = df['text'].str.contains('\\?').fillna(False)"
   ]
  },
  {
   "cell_type": "code",
   "execution_count": null,
   "metadata": {},
   "outputs": [],
   "source": [
    "# feature 3: whether a caption contains emoji\n",
    "import emoji\n",
    "import re\n",
    "\n",
    "emoji_re = re.compile(r\"(?<!\\w)(?:{})(?!\\w)\".format('|'.join([re.escape(x) for x in emoji.UNICODE_EMOJI])))\n",
    "\n",
    "def extract_emojis(str):\n",
    "    return ''.join(c for c in str if c in emoji.UNICODE_EMOJI)\n",
    "\n",
    "def has_emoji(caption):\n",
    "    return caption.str.contains(emoji_re).fillna(False)\n",
    "\n",
    "df['feature_emoji'] = has_emoji(df['text'])"
   ]
  },
  {
   "cell_type": "code",
   "execution_count": null,
   "metadata": {},
   "outputs": [],
   "source": [
    "# feature 4: weather a caption contains words related to certain topics\n",
    "words_dict = {}\n",
    "for filename in os.listdir('skittle_wordlist/v1/'):\n",
    "    keyname = filename.split('skittles_')[1]\n",
    "    words_dict[keyname] = open('skittle_wordlist/v1/'+ filename).read().split(',')"
   ]
  },
  {
   "cell_type": "code",
   "execution_count": null,
   "metadata": {},
   "outputs": [],
   "source": [
    "for key in words_dict:\n",
    "    words_dict[key] = '|'.join(list(words_dict[key]))\n",
    "# still need to finish this loop"
   ]
  },
  {
   "cell_type": "code",
   "execution_count": null,
   "metadata": {},
   "outputs": [],
   "source": [
    "for wordlist, wordlist_regex in words_dict.items():\n",
    "    feature_name = 'feature_'+wordlist\n",
    "    df[feature_name] = df['text'].str.contains(wordlist_regex).fillna(False)"
   ]
  },
  {
   "cell_type": "code",
   "execution_count": null,
   "metadata": {},
   "outputs": [],
   "source": [
    "# summarize volume of posts fall under each feature categories\n",
    "(df[ [c for c in df.columns if ('feature_' in c)] ]==True).sum()"
   ]
  },
  {
   "cell_type": "code",
   "execution_count": null,
   "metadata": {},
   "outputs": [],
   "source": [
    "len(df)"
   ]
  },
  {
   "cell_type": "code",
   "execution_count": null,
   "metadata": {},
   "outputs": [],
   "source": [
    "# model on the features that have significant volumne to evaluate which bring meaningful impact to the engagements.\n",
    "\n",
    "from statsmodels.discrete.discrete_model import NegativeBinomial\n",
    "from statsmodels.tools.tools import add_constant\n",
    "\n",
    "X = (\n",
    "        add_constant(\n",
    "            df[\n",
    "                ['feature_question',\n",
    "                 'feature_moments_words',\n",
    "                 'feature_marketing_and_shopping_words'\n",
    "                ]\n",
    "            ].applymap(int)\n",
    "        )\n",
    ")\n",
    "y = df.engagement"
   ]
  },
  {
   "cell_type": "code",
   "execution_count": null,
   "metadata": {},
   "outputs": [],
   "source": [
    "model = NegativeBinomial(endog = y, \n",
    "                         exog= X,\n",
    "                         loglike_method = 'nb2',\n",
    "                        missing='drop')\n",
    "\n",
    "fit = model.fit(method='bfgs')\n",
    "\n",
    "fit.summary()"
   ]
  },
  {
   "cell_type": "code",
   "execution_count": null,
   "metadata": {},
   "outputs": [],
   "source": [
    "fit.conf_int().applymap(pd.np.exp)"
   ]
  },
  {
   "cell_type": "code",
   "execution_count": null,
   "metadata": {},
   "outputs": [],
   "source": [
    "a = fit.summary\n",
    "sm.iolib.smpickle.save_pickle(a, 'skittles_tw_modelresult.pkl')"
   ]
  }
 ],
 "metadata": {
  "kernelspec": {
   "display_name": "Python 3",
   "language": "python",
   "name": "python3"
  },
  "language_info": {
   "codemirror_mode": {
    "name": "ipython",
    "version": 3
   },
   "file_extension": ".py",
   "mimetype": "text/x-python",
   "name": "python",
   "nbconvert_exporter": "python",
   "pygments_lexer": "ipython3",
   "version": "3.6.5"
  }
 },
 "nbformat": 4,
 "nbformat_minor": 2
}
