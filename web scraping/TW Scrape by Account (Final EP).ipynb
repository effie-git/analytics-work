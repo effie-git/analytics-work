{
 "cells": [
  {
   "cell_type": "code",
   "execution_count": null,
   "metadata": {},
   "outputs": [],
   "source": [
    "import tweepy \n",
    "from tweepy import OAuthHandler\n",
    "from tweepy import Stream\n",
    "import pandas as pd    \n",
    "import numpy as np      \n",
    "import datetime, time\n",
    "import json"
   ]
  },
  {
   "cell_type": "code",
   "execution_count": null,
   "metadata": {},
   "outputs": [],
   "source": [
    "# your credentials\n",
    "import tw_credentials as pw"
   ]
  },
  {
   "cell_type": "code",
   "execution_count": null,
   "metadata": {},
   "outputs": [],
   "source": [
    "# Authentication and access using keys:\n",
    "auth = OAuthHandler(pw.CONSUMER_KEY, pw.CONSUMER_SECRET)\n",
    "auth.set_access_token(pw.ACCESS_TOKEN, pw.ACCESS_SECRET)\n",
    "api = tweepy.API(auth, wait_on_rate_limit=True, wait_on_rate_limit_notify=True, timeout=120)"
   ]
  },
  {
   "cell_type": "code",
   "execution_count": null,
   "metadata": {},
   "outputs": [],
   "source": [
    "tw_name = 'DoveChocolate'"
   ]
  },
  {
   "cell_type": "code",
   "execution_count": null,
   "metadata": {},
   "outputs": [],
   "source": [
    "# max count available to scrape is 3,200, replies are included, regardless how the parameters are set up\n",
    "# ref: https://developer.twitter.com/en/docs/tweets/timelines/api-reference/get-statuses-user_timeline.html\n",
    "\n",
    "resp_json = []\n",
    "count = 0\n",
    "for r in tweepy.Cursor(api.user_timeline, \n",
    "              screen_name=tw_name, \n",
    "              exclude_replies='true',\n",
    "              include_rts = 'false',\n",
    "              tweet_mode=\"extended\",\n",
    "              count=3200).items():\n",
    "    resp_json.append(r._json)\n",
    "    count+=1\n",
    "\n",
    "tw_data = pd.io.json.json_normalize(resp_json)"
   ]
  },
  {
   "cell_type": "code",
   "execution_count": null,
   "metadata": {},
   "outputs": [],
   "source": [
    "columns = ['id',\n",
    "           'created_at',\n",
    "           'display_text_range',\n",
    "           'entities.hashtags',\n",
    "           'entities.media',\n",
    "           'entities.user_mentions',\n",
    "           'extended_entities.media',\n",
    "           'favorite_count',\n",
    "           'full_text',\n",
    "           'is_quote_status'\n",
    "           ,\n",
    "           'retweet_count']\n",
    "\n",
    "tw_data_processed = tw_data[columns]"
   ]
  },
  {
   "cell_type": "code",
   "execution_count": null,
   "metadata": {},
   "outputs": [],
   "source": [
    "len(tw_data_processed)"
   ]
  },
  {
   "cell_type": "code",
   "execution_count": null,
   "metadata": {},
   "outputs": [],
   "source": [
    "tw_data_processed = tw_data_processed.reset_index(drop=True)\n",
    "tw_data_processed.to_pickle(tw_name + '_tw.pkl')"
   ]
  },
  {
   "cell_type": "code",
   "execution_count": null,
   "metadata": {},
   "outputs": [],
   "source": []
  }
 ],
 "metadata": {
  "celltoolbar": "Slideshow",
  "kernelspec": {
   "display_name": "Python 3",
   "language": "python",
   "name": "python3"
  },
  "language_info": {
   "codemirror_mode": {
    "name": "ipython",
    "version": 3
   },
   "file_extension": ".py",
   "mimetype": "text/x-python",
   "name": "python",
   "nbconvert_exporter": "python",
   "pygments_lexer": "ipython3",
   "version": "3.6.5"
  }
 },
 "nbformat": 4,
 "nbformat_minor": 2
}
