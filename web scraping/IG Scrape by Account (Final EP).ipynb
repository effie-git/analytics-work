{
 "cells": [
  {
   "cell_type": "code",
   "execution_count": null,
   "metadata": {},
   "outputs": [],
   "source": [
    "import pandas as pd\n",
    "import request\n",
    "import json\n",
    "import numpy as np\n",
    "import datetime"
   ]
  },
  {
   "cell_type": "code",
   "execution_count": null,
   "metadata": {},
   "outputs": [],
   "source": [
    "# your credentials\n",
    "import ig_credentials as pw"
   ]
  },
  {
   "cell_type": "code",
   "execution_count": null,
   "metadata": {},
   "outputs": [],
   "source": [
    "# create an Object container\n",
    "APIs = {}"
   ]
  },
  {
   "cell_type": "code",
   "execution_count": null,
   "metadata": {},
   "outputs": [],
   "source": [
    "# DO NOT RUN THIS TOO OFTEN! YOU WILL GET BLOCKED! THEN YOU HAVE TO MOVE!\n",
    "\n",
    "import instagram_private_api\n",
    "APIs.update({\"instagram\" : instagram_private_api.Client(pw.IG_USER, pw.IG_PASS)})"
   ]
  },
  {
   "cell_type": "code",
   "execution_count": null,
   "metadata": {},
   "outputs": [],
   "source": [
    "# enter ig account name that you want to scrape\n",
    "ig_name = 'dovechocolate'"
   ]
  },
  {
   "cell_type": "code",
   "execution_count": null,
   "metadata": {},
   "outputs": [],
   "source": [
    "# define a function to get instagram ID\n",
    "def ig_name_to_id(ig_name, Client):\n",
    "    return Client.username_info(ig_name)['user']['pk']"
   ]
  },
  {
   "cell_type": "code",
   "execution_count": null,
   "metadata": {},
   "outputs": [],
   "source": [
    "ig_id = ig_name_to_id(ig_name, APIs['instagram'])"
   ]
  },
  {
   "cell_type": "code",
   "execution_count": null,
   "metadata": {},
   "outputs": [],
   "source": [
    "# the actual scrape process\n",
    "\n",
    "MAX_LEN = 1100 # enter number of posts you want to scrape\n",
    "\n",
    "response = APIs['instagram'].user_feed(ig_id)\n",
    "media = response['items']\n",
    "while len(media) < MAX_LEN and 'next_max_id' in response.keys():\n",
    "    response = APIs['instagram'].user_feed(ig_id, max_id=response['next_max_id'])\n",
    "    media.extend(response['items'])\n",
    "\n",
    "ig_data = pd.io.json.json_normalize(media)"
   ]
  },
  {
   "cell_type": "code",
   "execution_count": null,
   "metadata": {},
   "outputs": [],
   "source": [
    "len(ig_data)"
   ]
  },
  {
   "cell_type": "code",
   "execution_count": null,
   "metadata": {},
   "outputs": [],
   "source": [
    "# select the columns you need from all the columns provided\n",
    "columns_to_keep =  [\n",
    "    'id',\n",
    "    'media_type',\n",
    "    'caption.text',\n",
    "    'code',\n",
    "    'like_count',\n",
    "    'comment_count',\n",
    "    'view_count',\n",
    "    'video_duration',\n",
    "    'carousel_media_count',\n",
    "    'view_count',\n",
    "    'caption.created_at_utc',\n",
    "    'image_versions2.candidates']\n",
    "\n",
    "ig_data_processed = ig_data[columns_to_keep]"
   ]
  },
  {
   "cell_type": "code",
   "execution_count": null,
   "metadata": {},
   "outputs": [],
   "source": [
    "# notes to read the result:\n",
    "# media_type = 1 >>> Photo\n",
    "# media_type = 2 >>> Video\n",
    "# media_type = 8 >>> Carousel/Albumx"
   ]
  },
  {
   "cell_type": "code",
   "execution_count": null,
   "metadata": {},
   "outputs": [],
   "source": [
    "ig_data_processed[ig_data_processed['caption.created_at_utc'].isnull()] = 0"
   ]
  },
  {
   "cell_type": "code",
   "execution_count": null,
   "metadata": {},
   "outputs": [],
   "source": [
    "# clean up time format\n",
    "caption_created_time = []\n",
    "\n",
    "i = 0\n",
    "for i in ig_data_processed['caption.created_at_utc']:\n",
    "    value = datetime.datetime.fromtimestamp(int(i)).strftime('%Y-%m-%d %H:%M:%S')\n",
    "    caption_created_time.append(value)\n",
    "    i = i + 1\n",
    "\n",
    "ig_data_processed['caption_created_time'] = caption_created_time "
   ]
  },
  {
   "cell_type": "code",
   "execution_count": null,
   "metadata": {},
   "outputs": [],
   "source": [
    "# reset index and save the data\n",
    "ig_data_processed = ig_data_processed.reset_index(drop=True)\n",
    "ig_data_processed.to_pickle(ig_name + '_ig.pkl')"
   ]
  }
 ],
 "metadata": {
  "kernelspec": {
   "display_name": "Python 3",
   "language": "python",
   "name": "python3"
  },
  "language_info": {
   "codemirror_mode": {
    "name": "ipython",
    "version": 3
   },
   "file_extension": ".py",
   "mimetype": "text/x-python",
   "name": "python",
   "nbconvert_exporter": "python",
   "pygments_lexer": "ipython3",
   "version": "3.6.5"
  }
 },
 "nbformat": 4,
 "nbformat_minor": 2
}
